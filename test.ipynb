{
 "cells": [
  {
   "cell_type": "code",
   "execution_count": 3,
   "id": "c6084af3",
   "metadata": {},
   "outputs": [],
   "source": [
    "from torchvision.models import resnet18"
   ]
  },
  {
   "cell_type": "code",
   "execution_count": 4,
   "id": "8a189347",
   "metadata": {},
   "outputs": [],
   "source": [
    "a = resnet18()"
   ]
  },
  {
   "cell_type": "code",
   "execution_count": 5,
   "id": "7deaa745",
   "metadata": {},
   "outputs": [],
   "source": [
    "b = resnet18()"
   ]
  },
  {
   "cell_type": "code",
   "execution_count": null,
   "id": "0b6229ae",
   "metadata": {},
   "outputs": [],
   "source": []
  }
 ],
 "metadata": {
  "kernelspec": {
   "display_name": "Python 3 (ipykernel)",
   "language": "python",
   "name": "python3"
  },
  "language_info": {
   "codemirror_mode": {
    "name": "ipython",
    "version": 3
   },
   "file_extension": ".py",
   "mimetype": "text/x-python",
   "name": "python",
   "nbconvert_exporter": "python",
   "pygments_lexer": "ipython3",
   "version": "3.8.13"
  }
 },
 "nbformat": 4,
 "nbformat_minor": 5
}
